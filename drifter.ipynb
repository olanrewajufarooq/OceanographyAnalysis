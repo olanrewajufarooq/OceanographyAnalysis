{
 "cells": [
  {
   "cell_type": "code",
   "execution_count": 1,
   "metadata": {},
   "outputs": [],
   "source": [
    "## Importing Libraries\n",
    "\n",
    "# Python-based Libraries\n",
    "\n",
    "\n",
    "# Data Analysis Libraries\n",
    "import pandas as pd\n",
    "\n",
    "# Graph plotting libraries\n",
    "\n",
    "    \n",
    "# Filtering Data before Plotting\n"
   ]
  },
  {
   "cell_type": "code",
   "execution_count": 22,
   "metadata": {},
   "outputs": [],
   "source": [
    "from datetime import timedelta\n",
    "\n",
    "\n",
    "class Drifters:\n",
    "    \n",
    "    def __init__(self):\n",
    "        self.data = {}\n",
    "        self.logsheet = pd.DataFrame()\n",
    "        \n",
    "    def read_data(self):\n",
    "        pass\n",
    "    \n",
    "    def read_logsheet(self):\n",
    "        pass\n",
    "    \n",
    "    def time_shift(self, shift_amount:float = 1):\n",
    "        for key in self.data.keys():\n",
    "            self.data[key][\"DateTime\"] = self.data[key][\"DateTime\"] + timedelta(hours = shift_amount)\n",
    "    \n",
    "    def extract_data(self):\n",
    "        pass\n",
    "    \n",
    "    def compute_velocity(self):\n",
    "        pass\n",
    "    \n",
    "    def plot_trajectory(self):\n",
    "        pass\n",
    "    \n",
    "        \n",
    "    "
   ]
  },
  {
   "cell_type": "code",
   "execution_count": 23,
   "metadata": {},
   "outputs": [
    {
     "data": {
      "text/html": [
       "<div>\n",
       "<style scoped>\n",
       "    .dataframe tbody tr th:only-of-type {\n",
       "        vertical-align: middle;\n",
       "    }\n",
       "\n",
       "    .dataframe tbody tr th {\n",
       "        vertical-align: top;\n",
       "    }\n",
       "\n",
       "    .dataframe thead th {\n",
       "        text-align: right;\n",
       "    }\n",
       "</style>\n",
       "<table border=\"1\" class=\"dataframe\">\n",
       "  <thead>\n",
       "    <tr style=\"text-align: right;\">\n",
       "      <th></th>\n",
       "      <th>DateTime</th>\n",
       "      <th>Long</th>\n",
       "      <th>Lat</th>\n",
       "    </tr>\n",
       "  </thead>\n",
       "  <tbody>\n",
       "    <tr>\n",
       "      <th>0</th>\n",
       "      <td>2022-11-11 09:00:00</td>\n",
       "      <td>5.9</td>\n",
       "      <td>43.5</td>\n",
       "    </tr>\n",
       "    <tr>\n",
       "      <th>1</th>\n",
       "      <td>2022-11-11 10:00:00</td>\n",
       "      <td>6.0</td>\n",
       "      <td>43.6</td>\n",
       "    </tr>\n",
       "    <tr>\n",
       "      <th>2</th>\n",
       "      <td>2022-11-11 12:00:00</td>\n",
       "      <td>6.1</td>\n",
       "      <td>43.7</td>\n",
       "    </tr>\n",
       "  </tbody>\n",
       "</table>\n",
       "</div>"
      ],
      "text/plain": [
       "             DateTime  Long   Lat\n",
       "0 2022-11-11 09:00:00   5.9  43.5\n",
       "1 2022-11-11 10:00:00   6.0  43.6\n",
       "2 2022-11-11 12:00:00   6.1  43.7"
      ]
     },
     "execution_count": 23,
     "metadata": {},
     "output_type": "execute_result"
    }
   ],
   "source": [
    "# Testing code\n",
    "dftr = Drifters()\n",
    "dftr.data[119] = pd.DataFrame({\"DateTime\": [\"11-11-2022 9:00:00\", \"11-11-2022 10:00:00\", \"11-11-2022 12:00:00\"], \n",
    "                               \"Long\": [5.9, 6.0, 6.1], \"Lat\": [43.5, 43.6, 43.7]})\n",
    "\n",
    "dftr.data[119][\"DateTime\"] = pd.to_datetime(dftr.data[119][\"DateTime\"])\n",
    "dftr.data[119].head()"
   ]
  },
  {
   "cell_type": "code",
   "execution_count": 24,
   "metadata": {},
   "outputs": [
    {
     "data": {
      "text/html": [
       "<div>\n",
       "<style scoped>\n",
       "    .dataframe tbody tr th:only-of-type {\n",
       "        vertical-align: middle;\n",
       "    }\n",
       "\n",
       "    .dataframe tbody tr th {\n",
       "        vertical-align: top;\n",
       "    }\n",
       "\n",
       "    .dataframe thead th {\n",
       "        text-align: right;\n",
       "    }\n",
       "</style>\n",
       "<table border=\"1\" class=\"dataframe\">\n",
       "  <thead>\n",
       "    <tr style=\"text-align: right;\">\n",
       "      <th></th>\n",
       "      <th>DateTime</th>\n",
       "      <th>Long</th>\n",
       "      <th>Lat</th>\n",
       "    </tr>\n",
       "  </thead>\n",
       "  <tbody>\n",
       "    <tr>\n",
       "      <th>0</th>\n",
       "      <td>2022-11-11 07:00:00</td>\n",
       "      <td>5.9</td>\n",
       "      <td>43.5</td>\n",
       "    </tr>\n",
       "    <tr>\n",
       "      <th>1</th>\n",
       "      <td>2022-11-11 08:00:00</td>\n",
       "      <td>6.0</td>\n",
       "      <td>43.6</td>\n",
       "    </tr>\n",
       "    <tr>\n",
       "      <th>2</th>\n",
       "      <td>2022-11-11 10:00:00</td>\n",
       "      <td>6.1</td>\n",
       "      <td>43.7</td>\n",
       "    </tr>\n",
       "  </tbody>\n",
       "</table>\n",
       "</div>"
      ],
      "text/plain": [
       "             DateTime  Long   Lat\n",
       "0 2022-11-11 07:00:00   5.9  43.5\n",
       "1 2022-11-11 08:00:00   6.0  43.6\n",
       "2 2022-11-11 10:00:00   6.1  43.7"
      ]
     },
     "execution_count": 24,
     "metadata": {},
     "output_type": "execute_result"
    }
   ],
   "source": [
    "dftr.time_shift(shift_amount=-2)\n",
    "dftr.data[119].head()"
   ]
  },
  {
   "cell_type": "code",
   "execution_count": null,
   "metadata": {},
   "outputs": [],
   "source": []
  }
 ],
 "metadata": {
  "kernelspec": {
   "display_name": "data-analysis",
   "language": "python",
   "name": "python3"
  },
  "language_info": {
   "codemirror_mode": {
    "name": "ipython",
    "version": 3
   },
   "file_extension": ".py",
   "mimetype": "text/x-python",
   "name": "python",
   "nbconvert_exporter": "python",
   "pygments_lexer": "ipython3",
   "version": "3.10.6"
  },
  "orig_nbformat": 4,
  "vscode": {
   "interpreter": {
    "hash": "faccf2a0d0d6f24ad133c954b727a3417ecb6a1c20419487847b75b7fcaef0dd"
   }
  }
 },
 "nbformat": 4,
 "nbformat_minor": 2
}
