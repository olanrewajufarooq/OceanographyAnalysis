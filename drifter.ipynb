{
 "cells": [
  {
   "cell_type": "code",
   "execution_count": null,
   "metadata": {},
   "outputs": [],
   "source": [
    "## Importing Libraries\n",
    "\n",
    "# Python-based Libraries\n",
    "from datetime import timedelta, datetime\n",
    "\n",
    "# Data Analysis Libraries\n",
    "import pandas as pd\n",
    "\n",
    "# Graph plotting libraries\n",
    "\n",
    "    \n",
    "# Filtering Data before Plotting\n"
   ]
  },
  {
   "cell_type": "code",
   "execution_count": null,
   "metadata": {},
   "outputs": [],
   "source": [
    "class Drifters:\n",
    "    \n",
    "    def __init__(self, name:str):\n",
    "        self.name = name\n",
    "        self.data = {}\n",
    "        self.data_info = {}\n",
    "        \n",
    "    def read_data(self):\n",
    "        pass\n",
    "    \n",
    "    def read_logsheet(self, file_path):\n",
    "        \n",
    "        self.logsheet = pd.read_csv(file_path)\n",
    "        \n",
    "        self.logsheet[\"DepDateTime\"] = self.logsheet.apply(lambda x: x[\"DepDate\"] + \" \" + x[\"DepTime\"])\n",
    "        self.logsheet[\"RecovDateTime\"] = self.logsheet.apply(lambda x: x[\"RecovDate\"] + \" \" + x[\"RecovTime\"])\n",
    "        \n",
    "        self.logsheet.drop(columns=[\"DepDate\", \"DepTime\", \"RecovDate\", \"RecovTime\"], inplace=True)\n",
    "        \n",
    "        self.logsheet[\"DepDateTime\"] = pd.to_datetime(self.logsheet[\"DepDateTime\"])\n",
    "        self.logsheet[\"RecovDateTime\"] = pd.to_datetime(self.logsheet[\"RecovDateTime\"])\n",
    "        \n",
    "        for key in self.data.keys():\n",
    "            station = self.logsheet[\"Station\"][self.logsheet[\"Name\"] == float(key)].values\n",
    "            drog_depth = self.logsheet[\"DrogDepth\"][self.logsheet[\"Name\"] == float(key)].values\n",
    "            \n",
    "            \n",
    "            dep_datetime = self.logsheet[\"DepDateTime\"][self.logsheet[\"Name\"] == float(key)].values\n",
    "            recov_datetime = self.logsheet[\"RecovDateTime\"][self.logsheet[\"Name\"] == float(key)].values\n",
    "            \n",
    "            dep_long = self.logsheet[\"DepLong\"][self.logsheet[\"Name\"] == float(key)].values\n",
    "            dep_lat = self.logsheet[\"DepLat\"][self.logsheet[\"Name\"] == float(key)].values\n",
    "            \n",
    "            recov_long = self.logsheet[\"RecovLong\"][self.logsheet[\"Name\"] == float(key)].values\n",
    "            recov_lat = self.logsheet[\"RecovLat\"][self.logsheet[\"Name\"] == float(key)].values\n",
    "            \n",
    "            \n",
    "            info = {\"Station\":station, \"DrogDepth\":drog_depth, \"DepDateTime\":dep_datetime, \"RecovDateTime\":recov_datetime,\n",
    "                    \"DepLong\":dep_long, \"DepLat\":dep_lat, \"RecovLong\":recov_long, \"RecovLat\":recov_lat}\n",
    "            \n",
    "            self.data_info[key] = info\n",
    "    \n",
    "    def time_shift(self, shift_amount:float = 1):\n",
    "        for key in self.data.keys():\n",
    "            self.data[key][\"DateTime\"] = self.data[key][\"DateTime\"] + timedelta(hours = shift_amount)\n",
    "    \n",
    "    def extract_data(self):\n",
    "        pass\n",
    "            \n",
    "    \n",
    "    def compute_velocity(self):\n",
    "        pass\n",
    "    \n",
    "    def plot_trajectory(self):\n",
    "        pass\n",
    "    "
   ]
  },
  {
   "cell_type": "code",
   "execution_count": null,
   "metadata": {},
   "outputs": [],
   "source": [
    "# Testing code\n"
   ]
  }
 ],
 "metadata": {
  "kernelspec": {
   "display_name": "data-analysis",
   "language": "python",
   "name": "python3"
  },
  "language_info": {
   "codemirror_mode": {
    "name": "ipython",
    "version": 3
   },
   "file_extension": ".py",
   "mimetype": "text/x-python",
   "name": "python",
   "nbconvert_exporter": "python",
   "pygments_lexer": "ipython3",
   "version": "3.10.6"
  },
  "orig_nbformat": 4,
  "vscode": {
   "interpreter": {
    "hash": "faccf2a0d0d6f24ad133c954b727a3417ecb6a1c20419487847b75b7fcaef0dd"
   }
  }
 },
 "nbformat": 4,
 "nbformat_minor": 2
}
